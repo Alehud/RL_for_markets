{
 "cells": [
  {
   "cell_type": "code",
   "execution_count": 6,
   "metadata": {},
   "outputs": [],
   "source": [
    "import numpy as np\n",
    "import matplotlib.pyplot as plt"
   ]
  },
  {
   "cell_type": "code",
   "execution_count": 13,
   "metadata": {},
   "outputs": [],
   "source": [
    "import doubleauction\n",
    "from doubleauction.agents import RandomSeller, RandomBuyer\n",
    "from doubleauction.environments import MarketEnvironment\n",
    "from doubleauction.util import generate_seller_prices_paper, generate_buyer_prices_paper\n",
    "from doubleauction.matchers import RandomMatcher"
   ]
  },
  {
   "cell_type": "code",
   "execution_count": 37,
   "metadata": {},
   "outputs": [],
   "source": [
    "sellers = []\n",
    "for ii, p in enumerate(generate_seller_prices_paper(100)):\n",
    "    sellers.append(RandomSeller('s'+str(ii), p))"
   ]
  },
  {
   "cell_type": "code",
   "execution_count": 38,
   "metadata": {},
   "outputs": [],
   "source": [
    "buyers = []\n",
    "for ii, p in enumerate(generate_buyer_prices_paper(100)):\n",
    "    buyers.append(RandomBuyer('s'+str(ii), p))"
   ]
  },
  {
   "cell_type": "code",
   "execution_count": 39,
   "metadata": {},
   "outputs": [],
   "source": [
    "agents = sellers + buyers"
   ]
  },
  {
   "cell_type": "code",
   "execution_count": 40,
   "metadata": {},
   "outputs": [],
   "source": [
    "## Use a black box information setting\n",
    "setting = {\n",
    "    'self_last_offer': False,\n",
    "    'same_side_last_offers': False,\n",
    "    'other_side_last_offers': False,\n",
    "    'completed_deals': False,\n",
    "    'current_time': False,\n",
    "    'max_time': False,\n",
    "    'n_sellers': False,\n",
    "    'n_buyers': False\n",
    "}\n",
    "\n",
    "market_env = MarketEnvironment(sellers=sellers, buyers=buyers, max_steps=50,\n",
    "                               matcher=RandomMatcher(reward_on_reference=True), setting=setting)\n",
    "\n",
    "init_observation = market_env.reset()"
   ]
  },
  {
   "cell_type": "code",
   "execution_count": 41,
   "metadata": {},
   "outputs": [],
   "source": [
    "\n",
    "done = False\n",
    "observations = {k.agent_id:None for k in agents}\n",
    "reward_hist = []\n",
    "rounds = 0\n",
    "\n",
    "while not done:\n",
    "    offers = {}\n",
    "    \n",
    "    offers = {a.agent_id : a.decide(observations[a.agent_id]) for a in agents}\n",
    "    \n",
    "    observations, rewards, done, _ = market_env.step(offers)\n",
    "    reward_hist.append(rewards)\n",
    "    rounds += 1\n",
    "    "
   ]
  }
 ],
 "metadata": {
  "kernelspec": {
   "display_name": "Python 3",
   "language": "python",
   "name": "python3"
  },
  "language_info": {
   "codemirror_mode": {
    "name": "ipython",
    "version": 3
   },
   "file_extension": ".py",
   "mimetype": "text/x-python",
   "name": "python",
   "nbconvert_exporter": "python",
   "pygments_lexer": "ipython3",
   "version": "3.7.5"
  }
 },
 "nbformat": 4,
 "nbformat_minor": 2
}
