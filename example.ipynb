{
 "cells": [
  {
   "cell_type": "markdown",
   "metadata": {},
   "source": [
    "Make our custom modules available to numpy\n"
   ]
  },
  {
   "cell_type": "code",
   "execution_count": 1,
   "metadata": {},
   "outputs": [],
   "source": [
    "import sys\n",
    "sys.path.append('.')"
   ]
  },
  {
   "cell_type": "markdown",
   "metadata": {},
   "source": [
    "Load some generic libraries\n"
   ]
  },
  {
   "cell_type": "code",
   "execution_count": 2,
   "metadata": {},
   "outputs": [],
   "source": [
    "import pandas as pd\n",
    "import numpy as np\n",
    "import warnings\n",
    "# pandas setting warnings can be ignored, as it is intendend often\n",
    "warnings.simplefilter(\"ignore\")"
   ]
  },
  {
   "cell_type": "markdown",
   "metadata": {},
   "source": [
    "Load the custom modules\n"
   ]
  },
  {
   "cell_type": "code",
   "execution_count": 3,
   "metadata": {},
   "outputs": [],
   "source": [
    "from agents import Buyer, Seller\n",
    "from environments import MarketEnvironment\n",
    "from my_environment import MyMarketEnvironment"
   ]
  },
  {
   "cell_type": "markdown",
   "metadata": {},
   "source": [
    "Let's meet our agents\n",
    "The cost or budget for sellers and buyers, is also referred to as reservation price in general.\n",
    "\n",
    "Sellers first:"
   ]
  },
  {
   "cell_type": "code",
   "execution_count": 4,
   "metadata": {},
   "outputs": [],
   "source": [
    "john = Seller('Seller John', 100)\n",
    "nick = Seller('Seller Nick', 90)\n",
    "\n",
    "sellers = [john, nick]"
   ]
  },
  {
   "cell_type": "markdown",
   "metadata": {},
   "source": [
    "Then buyers:\n"
   ]
  },
  {
   "cell_type": "code",
   "execution_count": 5,
   "metadata": {},
   "outputs": [],
   "source": [
    "alex = Buyer('Buyer Alex', 130)\n",
    "kevin = Buyer('Buyer Kevin', 110)\n",
    "\n",
    "buyers = [alex, kevin]"
   ]
  },
  {
   "cell_type": "markdown",
   "metadata": {},
   "source": [
    "Now lets prepare our environment\n",
    "First let's load an information setting\n",
    "then let's load a matcher\n"
   ]
  },
  {
   "cell_type": "code",
   "execution_count": 6,
   "metadata": {},
   "outputs": [],
   "source": [
    "from info_settings import BlackBoxSetting\n",
    "from matchers import RandomMatcher"
   ]
  },
  {
   "cell_type": "markdown",
   "metadata": {},
   "source": [
    "Now let's create the environment, and be careful because now I am using a reward scheme based on reservation price. Is this scheme better for my research goal? If yes why?"
   ]
  },
  {
   "cell_type": "code",
   "execution_count": 7,
   "metadata": {},
   "outputs": [
    {
     "name": "stdout",
     "output_type": "stream",
     "text": [
      "[100.  90.   0.   0.]\n",
      "[ inf  inf 130. 110.]\n"
     ]
    }
   ],
   "source": [
    "market_env = MyMarketEnvironment(sellers=sellers, buyers=buyers, max_steps=30,  \n",
    "                                 matcher=RandomMatcher(reward_on_reference=True), setting=BlackBoxSetting)"
   ]
  },
  {
   "cell_type": "code",
   "execution_count": 32,
   "metadata": {},
   "outputs": [
    {
     "data": {
      "text/plain": [
       "True"
      ]
     },
     "execution_count": 32,
     "metadata": {},
     "output_type": "execute_result"
    }
   ],
   "source": [
    "market_env.action_space.contains([200,300,1,2])"
   ]
  },
  {
   "cell_type": "code",
   "execution_count": 8,
   "metadata": {},
   "outputs": [
    {
     "data": {
      "text/html": [
       "<div>\n",
       "<style scoped>\n",
       "    .dataframe tbody tr th:only-of-type {\n",
       "        vertical-align: middle;\n",
       "    }\n",
       "\n",
       "    .dataframe tbody tr th {\n",
       "        vertical-align: top;\n",
       "    }\n",
       "\n",
       "    .dataframe thead th {\n",
       "        text-align: right;\n",
       "    }\n",
       "</style>\n",
       "<table border=\"1\" class=\"dataframe\">\n",
       "  <thead>\n",
       "    <tr style=\"text-align: right;\">\n",
       "      <th></th>\n",
       "      <th>id</th>\n",
       "      <th>res_price</th>\n",
       "      <th>role</th>\n",
       "      <th>offer</th>\n",
       "      <th>time</th>\n",
       "    </tr>\n",
       "  </thead>\n",
       "  <tbody>\n",
       "    <tr>\n",
       "      <th>0</th>\n",
       "      <td>Seller John</td>\n",
       "      <td>100</td>\n",
       "      <td>Seller</td>\n",
       "      <td>0</td>\n",
       "      <td>0</td>\n",
       "    </tr>\n",
       "    <tr>\n",
       "      <th>1</th>\n",
       "      <td>Seller Nick</td>\n",
       "      <td>90</td>\n",
       "      <td>Seller</td>\n",
       "      <td>0</td>\n",
       "      <td>0</td>\n",
       "    </tr>\n",
       "    <tr>\n",
       "      <th>2</th>\n",
       "      <td>Buyer Alex</td>\n",
       "      <td>130</td>\n",
       "      <td>Buyer</td>\n",
       "      <td>0</td>\n",
       "      <td>0</td>\n",
       "    </tr>\n",
       "    <tr>\n",
       "      <th>3</th>\n",
       "      <td>Buyer Kevin</td>\n",
       "      <td>110</td>\n",
       "      <td>Buyer</td>\n",
       "      <td>0</td>\n",
       "      <td>0</td>\n",
       "    </tr>\n",
       "  </tbody>\n",
       "</table>\n",
       "</div>"
      ],
      "text/plain": [
       "            id  res_price    role  offer  time\n",
       "0  Seller John        100  Seller      0     0\n",
       "1  Seller Nick         90  Seller      0     0\n",
       "2   Buyer Alex        130   Buyer      0     0\n",
       "3  Buyer Kevin        110   Buyer      0     0"
      ]
     },
     "execution_count": 8,
     "metadata": {},
     "output_type": "execute_result"
    }
   ],
   "source": [
    "market_env.offers"
   ]
  },
  {
   "cell_type": "markdown",
   "metadata": {},
   "source": [
    "Now let's run a single step, deciding offers for all agents:\n",
    "first we clean the environment, just in case\n",
    "everything should be zeroes."
   ]
  },
  {
   "cell_type": "code",
   "execution_count": 9,
   "metadata": {},
   "outputs": [],
   "source": [
    "init_observation = market_env.reset()"
   ]
  },
  {
   "cell_type": "markdown",
   "metadata": {},
   "source": [
    "Now for each agent we decide a price a bit above or lower from their cost or budget respectively for 2 steps.\n",
    "\n",
    "For step 1:"
   ]
  },
  {
   "cell_type": "code",
   "execution_count": 10,
   "metadata": {},
   "outputs": [
    {
     "data": {
      "text/plain": [
       "{'Buyer Alex': 120.0,\n",
       " 'Buyer Kevin': 105.0,\n",
       " 'Seller John': 110.0,\n",
       " 'Seller Nick': 105.0}"
      ]
     },
     "metadata": {},
     "output_type": "display_data"
    },
    {
     "name": "stdout",
     "output_type": "stream",
     "text": [
      "observations:\n"
     ]
    },
    {
     "data": {
      "text/plain": [
       "{'Seller John': array([110.]),\n",
       " 'Seller Nick': array([105.]),\n",
       " 'Buyer Alex': array([120.]),\n",
       " 'Buyer Kevin': array([105.])}"
      ]
     },
     "metadata": {},
     "output_type": "display_data"
    }
   ],
   "source": [
    "step1_offers = {\n",
    "    'Buyer Alex': alex.reservation_price - 10.0, \n",
    "    'Buyer Kevin': kevin.reservation_price - 5.0, \n",
    "    'Seller John' : john.reservation_price + 10.0, \n",
    "    'Seller Nick': nick.reservation_price +15.0\n",
    "}\n",
    "display(step1_offers)\n",
    "observations, rewards, done, _ = market_env.step(step1_offers)\n",
    "print('observations:')\n",
    "display(observations)"
   ]
  },
  {
   "cell_type": "markdown",
   "metadata": {},
   "source": [
    "For step 2:"
   ]
  },
  {
   "cell_type": "code",
   "execution_count": 11,
   "metadata": {},
   "outputs": [
    {
     "data": {
      "text/plain": [
       "{'Buyer Kevin': 95.0, 'Seller John': 115.0}"
      ]
     },
     "metadata": {},
     "output_type": "display_data"
    },
    {
     "name": "stdout",
     "output_type": "stream",
     "text": [
      "observations:\n"
     ]
    },
    {
     "data": {
      "text/plain": [
       "{'Seller John': array([115.]),\n",
       " 'Seller Nick': array([105.]),\n",
       " 'Buyer Alex': array([120.]),\n",
       " 'Buyer Kevin': array([95.])}"
      ]
     },
     "metadata": {},
     "output_type": "display_data"
    }
   ],
   "source": [
    "step2_offers = {\n",
    "    'Buyer Kevin': kevin.reservation_price - 15.0, \n",
    "    'Seller John' : john.reservation_price + 15.0, \n",
    "}\n",
    "display(step2_offers)\n",
    "print('observations:')\n",
    "observations, rewards, done, _ = market_env.step(step2_offers)\n",
    "display(observations)"
   ]
  },
  {
   "cell_type": "markdown",
   "metadata": {},
   "source": [
    "now let's check when and if deals happened"
   ]
  },
  {
   "cell_type": "code",
   "execution_count": 12,
   "metadata": {},
   "outputs": [
    {
     "data": {
      "text/html": [
       "<div>\n",
       "<style scoped>\n",
       "    .dataframe tbody tr th:only-of-type {\n",
       "        vertical-align: middle;\n",
       "    }\n",
       "\n",
       "    .dataframe tbody tr th {\n",
       "        vertical-align: top;\n",
       "    }\n",
       "\n",
       "    .dataframe thead th {\n",
       "        text-align: right;\n",
       "    }\n",
       "</style>\n",
       "<table border=\"1\" class=\"dataframe\">\n",
       "  <thead>\n",
       "    <tr style=\"text-align: right;\">\n",
       "      <th></th>\n",
       "      <th>Seller</th>\n",
       "      <th>Buyer</th>\n",
       "      <th>time</th>\n",
       "      <th>deal_price</th>\n",
       "    </tr>\n",
       "  </thead>\n",
       "  <tbody>\n",
       "    <tr>\n",
       "      <th>0</th>\n",
       "      <td>Seller Nick</td>\n",
       "      <td>Buyer Alex</td>\n",
       "      <td>0</td>\n",
       "      <td>106.241697</td>\n",
       "    </tr>\n",
       "  </tbody>\n",
       "</table>\n",
       "</div>"
      ],
      "text/plain": [
       "        Seller       Buyer  time  deal_price\n",
       "0  Seller Nick  Buyer Alex     0  106.241697"
      ]
     },
     "execution_count": 12,
     "metadata": {},
     "output_type": "execute_result"
    }
   ],
   "source": [
    "pd.DataFrame(market_env.deal_history)"
   ]
  },
  {
   "cell_type": "markdown",
   "metadata": {},
   "source": [
    "and the history of offers"
   ]
  },
  {
   "cell_type": "code",
   "execution_count": 13,
   "metadata": {},
   "outputs": [
    {
     "data": {
      "text/html": [
       "<div>\n",
       "<style scoped>\n",
       "    .dataframe tbody tr th:only-of-type {\n",
       "        vertical-align: middle;\n",
       "    }\n",
       "\n",
       "    .dataframe tbody tr th {\n",
       "        vertical-align: top;\n",
       "    }\n",
       "\n",
       "    .dataframe thead th {\n",
       "        text-align: right;\n",
       "    }\n",
       "</style>\n",
       "<table border=\"1\" class=\"dataframe\">\n",
       "  <thead>\n",
       "    <tr style=\"text-align: right;\">\n",
       "      <th></th>\n",
       "      <th>id</th>\n",
       "      <th>res_price</th>\n",
       "      <th>role</th>\n",
       "      <th>offer</th>\n",
       "      <th>time</th>\n",
       "    </tr>\n",
       "  </thead>\n",
       "  <tbody>\n",
       "    <tr>\n",
       "      <th>0</th>\n",
       "      <td>Seller John</td>\n",
       "      <td>100</td>\n",
       "      <td>Seller</td>\n",
       "      <td>115.0</td>\n",
       "      <td>1</td>\n",
       "    </tr>\n",
       "    <tr>\n",
       "      <th>1</th>\n",
       "      <td>Seller Nick</td>\n",
       "      <td>90</td>\n",
       "      <td>Seller</td>\n",
       "      <td>105.0</td>\n",
       "      <td>0</td>\n",
       "    </tr>\n",
       "    <tr>\n",
       "      <th>2</th>\n",
       "      <td>Buyer Alex</td>\n",
       "      <td>130</td>\n",
       "      <td>Buyer</td>\n",
       "      <td>120.0</td>\n",
       "      <td>0</td>\n",
       "    </tr>\n",
       "    <tr>\n",
       "      <th>3</th>\n",
       "      <td>Buyer Kevin</td>\n",
       "      <td>110</td>\n",
       "      <td>Buyer</td>\n",
       "      <td>95.0</td>\n",
       "      <td>1</td>\n",
       "    </tr>\n",
       "  </tbody>\n",
       "</table>\n",
       "</div>"
      ],
      "text/plain": [
       "            id  res_price    role  offer  time\n",
       "0  Seller John        100  Seller  115.0     1\n",
       "1  Seller Nick         90  Seller  105.0     0\n",
       "2   Buyer Alex        130   Buyer  120.0     0\n",
       "3  Buyer Kevin        110   Buyer   95.0     1"
      ]
     },
     "execution_count": 13,
     "metadata": {},
     "output_type": "execute_result"
    }
   ],
   "source": [
    "market_env.offers"
   ]
  },
  {
   "cell_type": "code",
   "execution_count": 14,
   "metadata": {},
   "outputs": [
    {
     "data": {
      "text/plain": [
       "Box(4,)"
      ]
     },
     "execution_count": 14,
     "metadata": {},
     "output_type": "execute_result"
    }
   ],
   "source": [
    "market_env.action_space"
   ]
  },
  {
   "cell_type": "markdown",
   "metadata": {},
   "source": [
    "The above showcase a simple run of how two steps are done. \n",
    "After a whole round is finished, we call reset.\n",
    "In the lectures on 14.10.2019 and 21.10.2019, it will be shown how the MarketEnvironment is convertedto a gym environment. A single agent will be trained with reinforcement learning.\n",
    "Still, you are encouraged to expand the example yourselves and proceed with implementing the environment!"
   ]
  },
  {
   "cell_type": "code",
   "execution_count": 15,
   "metadata": {},
   "outputs": [],
   "source": [
    "import gym\n"
   ]
  },
  {
   "cell_type": "code",
   "execution_count": 16,
   "metadata": {},
   "outputs": [
    {
     "data": {
      "text/plain": [
       "array([-6.3556584e-11, -6.5860824e-11, -1.3696158e-11, -1.7152771e-11,\n",
       "       -5.9497567e-11, -8.0157707e-11, -5.5657094e-11, -7.1894053e-11,\n",
       "       -9.9288763e-12], dtype=float32)"
      ]
     },
     "execution_count": 16,
     "metadata": {},
     "output_type": "execute_result"
    }
   ],
   "source": [
    "gym.spaces.Box(0.0,-1e-10,shape=(9,)).sample()"
   ]
  },
  {
   "cell_type": "code",
   "execution_count": 29,
   "metadata": {},
   "outputs": [
    {
     "data": {
      "text/plain": [
       "array([101.44665 ,  -1.      ,  -1.      ,   4.515912], dtype=float32)"
      ]
     },
     "execution_count": 29,
     "metadata": {},
     "output_type": "execute_result"
    }
   ],
   "source": [
    "market_env.action_space.sample()"
   ]
  }
 ],
 "metadata": {
  "kernelspec": {
   "display_name": "Python 3",
   "language": "python",
   "name": "python3"
  },
  "language_info": {
   "codemirror_mode": {
    "name": "ipython",
    "version": 3
   },
   "file_extension": ".py",
   "mimetype": "text/x-python",
   "name": "python",
   "nbconvert_exporter": "python",
   "pygments_lexer": "ipython3",
   "version": "3.7.5"
  }
 },
 "nbformat": 4,
 "nbformat_minor": 2
}
