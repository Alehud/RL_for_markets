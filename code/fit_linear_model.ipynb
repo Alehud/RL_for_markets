{
 "cells": [
  {
   "cell_type": "code",
   "execution_count": 174,
   "metadata": {},
   "outputs": [],
   "source": [
    "import pandas as pd\n",
    "import matplotlib.pyplot as plt\n",
    "import numpy as np\n",
    "import sklearn\n",
    "# import statsmodels.api as sm"
   ]
  },
  {
   "cell_type": "code",
   "execution_count": 175,
   "metadata": {},
   "outputs": [],
   "source": [
    "data = pd.read_stata('data/DataTimeSeries.dta')"
   ]
  },
  {
   "cell_type": "markdown",
   "metadata": {},
   "source": [
    "# Case 1: Blackbox\n",
    "\n",
    "Use an auto regressive model based on previous demand."
   ]
  },
  {
   "cell_type": "code",
   "execution_count": 176,
   "metadata": {},
   "outputs": [
    {
     "data": {
      "text/plain": [
       "(array([ 6439.,     0.,     0.,     0.,     0.,     0.,     0.,     0.,\n",
       "            0., 23648.]),\n",
       " array([0. , 0.1, 0.2, 0.3, 0.4, 0.5, 0.6, 0.7, 0.8, 0.9, 1. ]),\n",
       " <a list of 10 Patch objects>)"
      ]
     },
     "execution_count": 176,
     "metadata": {},
     "output_type": "execute_result"
    },
    {
     "data": {
      "image/png": "[encoded data removed]",
      "text/plain": [
       "<Figure size 432x288 with 1 Axes>"
      ]
     },
     "metadata": {
      "needs_background": "light"
     },
     "output_type": "display_data"
    }
   ],
   "source": [
    "plt.hist(games_blackbox['fwi'])"
   ]
  },
  {
   "cell_type": "code",
   "execution_count": 177,
   "metadata": {},
   "outputs": [],
   "source": [
    "games_blackbox = data[(data['treat']== 'blackbox')]\n",
    "\n",
    "X = games_blackbox.loc[:, ['lagd', 's']]\n",
    "y = games_blackbox['d']\n",
    "\n",
    "X = np.array(X, dtype=np.float32)\n",
    "y = np.array(y, dtype=np.float32)"
   ]
  },
  {
   "cell_type": "code",
   "execution_count": 178,
   "metadata": {},
   "outputs": [
    {
     "name": "stdout",
     "output_type": "stream",
     "text": [
      "(0.0001, 567.0403594970703)\n",
      "(0.001, 567.0403747558594)\n",
      "(0.01, 567.0403594970703)\n",
      "(0.01, 567.0403594970703)\n",
      "(1, 567.040151977539)\n",
      "(10, 567.0385192871094)\n",
      "(100.0, 567.036328125)\n"
     ]
    }
   ],
   "source": [
    "from sklearn.linear_model import Ridge\n",
    "from sklearn.model_selection import cross_validate\n",
    "\n",
    "res = []\n",
    "for l2 in [1e-4, 1e-3, 1e-2, 1e-2, 1, 10, 1e2]:\n",
    "    model = Ridge(alpha=l2)\n",
    "\n",
    "    scores = cross_validate(model, X, y, cv=10,\n",
    "                            scoring=('neg_mean_squared_error'),\n",
    "                            return_train_score=False)\n",
    "    \n",
    "    res.append((l2, -np.mean(scores['test_score'])))\n",
    "\n",
    "for r in res:\n",
    "    print(r)"
   ]
  },
  {
   "cell_type": "code",
   "execution_count": 179,
   "metadata": {},
   "outputs": [
    {
     "data": {
      "text/plain": [
       "array([ 0.75497335, 13.1468725 ], dtype=float32)"
      ]
     },
     "execution_count": 179,
     "metadata": {},
     "output_type": "execute_result"
    }
   ],
   "source": [
    "model = Ridge(alpha=1e-1)\n",
    "model.fit(X, y)\n",
    "model.coef_"
   ]
  },
  {
   "cell_type": "markdown",
   "metadata": {},
   "source": [
    "# Case 2: Same side"
   ]
  },
  {
   "cell_type": "code",
   "execution_count": 180,
   "metadata": {},
   "outputs": [],
   "source": [
    "games_blackbox = data[(data['treat'] == 'own')]\n",
    "\n",
    "X = games_blackbox.loc[:, ['lagd', 's', 'own']]\n",
    "y = games_blackbox['d']\n",
    "\n",
    "X = np.array(X, dtype=np.float32)\n",
    "y = np.array(y, dtype=np.float32)\n",
    "\n",
    "y = y[~np.isnan(X[:, 2])]\n",
    "X = X[~np.isnan(X[:, 2])]"
   ]
  },
  {
   "cell_type": "code",
   "execution_count": 192,
   "metadata": {},
   "outputs": [
    {
     "name": "stdout",
     "output_type": "stream",
     "text": [
      "(0.0001, 293.4764101409912)\n",
      "(0.001, 293.47641067504884)\n",
      "(0.01, 293.4764113616943)\n",
      "(0.01, 293.4764113616943)\n",
      "(1, 293.4781552124023)\n",
      "(10, 293.5705583953857)\n",
      "(100.0, 297.4006681060791)\n"
     ]
    }
   ],
   "source": [
    "from sklearn.linear_model import Ridge\n",
    "from sklearn.model_selection import cross_validate\n",
    "\n",
    "res = []\n",
    "for l2 in [1e-4, 1e-3, 1e-2, 1e-2, 1, 10, 1e2]:\n",
    "    model = Ridge(alpha=l2)\n",
    "\n",
    "    scores = cross_validate(model, X, y, cv=50,\n",
    "                            scoring=('neg_mean_squared_error'),\n",
    "                            return_train_score=False)\n",
    "    \n",
    "    res.append((l2, -np.mean(scores['test_score'])))\n",
    "\n",
    "for r in res:\n",
    "    print(r)"
   ]
  },
  {
   "cell_type": "code",
   "execution_count": 182,
   "metadata": {},
   "outputs": [
    {
     "data": {
      "text/plain": [
       "array([ 0.6807296, 10.604975 ,  0.0132582], dtype=float32)"
      ]
     },
     "execution_count": 182,
     "metadata": {},
     "output_type": "execute_result"
    }
   ],
   "source": [
    "model = Ridge(alpha=10)\n",
    "model.fit(X, y)\n",
    "model.coef_"
   ]
  },
  {
   "cell_type": "markdown",
   "metadata": {},
   "source": [
    "# Other side information"
   ]
  },
  {
   "cell_type": "code",
   "execution_count": 183,
   "metadata": {},
   "outputs": [],
   "source": [
    "games_blackbox = data[(data['treat'] == 'other')]\n",
    "\n",
    "X = games_blackbox.loc[:, ['lagd', 's', 'other']]\n",
    "y = games_blackbox['d']\n",
    "\n",
    "X = np.array(X, dtype=np.float32)\n",
    "y = np.array(y, dtype=np.float32)\n",
    "\n",
    "y = y[~np.isnan(X[:, 2])]\n",
    "X = X[~np.isnan(X[:, 2])]"
   ]
  },
  {
   "cell_type": "code",
   "execution_count": 184,
   "metadata": {},
   "outputs": [
    {
     "name": "stdout",
     "output_type": "stream",
     "text": [
      "(0.0001, 268.0079938491186)\n",
      "(0.001, 268.00800975163776)\n",
      "(0.01, 268.00805755456287)\n",
      "(0.01, 268.00805755456287)\n",
      "(1, 268.0170711437861)\n",
      "(10, 268.3597914854685)\n",
      "(100.0, 274.77072677612307)\n"
     ]
    }
   ],
   "source": [
    "from sklearn.linear_model import Ridge\n",
    "from sklearn.model_selection import cross_validate\n",
    "\n",
    "res = []\n",
    "for l2 in [1e-4, 1e-3, 1e-2, 1e-2, 1, 10, 1e2]:\n",
    "    model = Ridge(alpha=l2)\n",
    "\n",
    "    scores = cross_validate(model, X, y, cv=30,\n",
    "                            scoring=('neg_mean_squared_error'),\n",
    "                            return_train_score=False)\n",
    "    \n",
    "    res.append((l2, -np.mean(scores['test_score'])))\n",
    "\n",
    "for r in res:\n",
    "    print(r)"
   ]
  },
  {
   "cell_type": "markdown",
   "metadata": {},
   "source": [
    "# Full information"
   ]
  },
  {
   "cell_type": "code",
   "execution_count": 185,
   "metadata": {},
   "outputs": [],
   "source": [
    "games_blackbox = data[(data['treat'] == 'full')]\n",
    "\n",
    "X = games_blackbox.loc[:, ['lagd', 's', 'own', 'other', 'dealprice']]\n",
    "y = games_blackbox['d']\n",
    "\n",
    "X = np.array(X, dtype=np.float32)\n",
    "y = np.array(y, dtype=np.float32)\n",
    "\n",
    "y = y[~np.isnan(X[:, 2])]\n",
    "X = X[~np.isnan(X[:, 2])]\n",
    "\n",
    "y = y[~np.isnan(X[:, 3])]\n",
    "X = X[~np.isnan(X[:, 3])]\n",
    "\n",
    "y = y[~np.isnan(X[:, 4])]\n",
    "X = X[~np.isnan(X[:, 4])]"
   ]
  },
  {
   "cell_type": "code",
   "execution_count": 186,
   "metadata": {},
   "outputs": [
    {
     "name": "stdout",
     "output_type": "stream",
     "text": [
      "(0.0001, 292.50174814860026)\n",
      "(0.001, 292.5017557779948)\n",
      "(0.01, 292.5017936706543)\n",
      "(0.01, 292.5017936706543)\n",
      "(1, 292.50742263793944)\n",
      "(10, 292.6346725463867)\n",
      "(100.0, 296.7091636657715)\n"
     ]
    }
   ],
   "source": [
    "from sklearn.linear_model import Ridge\n",
    "from sklearn.model_selection import cross_validate\n",
    "\n",
    "res = []\n",
    "for l2 in [1e-4, 1e-3, 1e-2, 1e-2, 1, 10, 1e2]:\n",
    "    model = Ridge(alpha=l2)\n",
    "\n",
    "    scores = cross_validate(model, X, y, cv=30,\n",
    "                            scoring=('neg_mean_squared_error'),\n",
    "                            return_train_score=False)\n",
    "    \n",
    "    res.append((l2, -np.mean(scores['test_score'])))\n",
    "\n",
    "for r in res:\n",
    "    print(r)"
   ]
  },
  {
   "cell_type": "code",
   "execution_count": 187,
   "metadata": {},
   "outputs": [
    {
     "data": {
      "text/plain": [
       "array([ 3.4200886e-01,  1.6926205e+01, -1.2738276e-02,  5.3933808e-03,\n",
       "        7.0086890e-01], dtype=float32)"
      ]
     },
     "execution_count": 187,
     "metadata": {},
     "output_type": "execute_result"
    }
   ],
   "source": [
    "model = Ridge(alpha=1e-2)\n",
    "model.fit(X, y)\n",
    "model.coef_"
   ]
  }
 ],
 "metadata": {
  "kernelspec": {
   "display_name": "Python 3",
   "language": "python",
   "name": "python3"
  },
  "language_info": {
   "codemirror_mode": {
    "name": "ipython",
    "version": 3
   },
   "file_extension": ".py",
   "mimetype": "text/x-python",
   "name": "python",
   "nbconvert_exporter": "python",
   "pygments_lexer": "ipython3",
   "version": "3.7.5"
  }
 },
 "nbformat": 4,
 "nbformat_minor": 2
}
