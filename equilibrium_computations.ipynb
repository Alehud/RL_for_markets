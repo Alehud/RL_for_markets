{
 "cells": [
  {
   "cell_type": "code",
   "execution_count": 3,
   "metadata": {},
   "outputs": [],
   "source": [
    "import numpy as np\n",
    "import matplotlib.pyplot as plt"
   ]
  },
  {
   "cell_type": "code",
   "execution_count": 4,
   "metadata": {},
   "outputs": [],
   "source": [
    "from util import generate_seller_prices_paper, generate_buyer_prices_paper"
   ]
  },
  {
   "cell_type": "code",
   "execution_count": 94,
   "metadata": {},
   "outputs": [],
   "source": [
    "def compute_cdf(values, start, end):\n",
    "    values2 = np.sort(np.append(values, [start, end]))\n",
    "    \n",
    "    ii = np.arange(0, len(values)+1)\n",
    "    ii = np.append(ii, [len(values)])\n",
    "    \n",
    "    return values2, ii\n",
    "    \n",
    "\n",
    "def plot_price_curves(buyers, sellers, range_prices=[70, 150]):\n",
    "    import matplotlib.pyplot as plt\n",
    "    \n",
    "    vv, ii = compute_cdf(sellers, range_prices[0], range_prices[1])\n",
    "    plt.step(vv, ii, where='post', label='Sellers')\n",
    "    \n",
    "    vv, ii = compute_cdf(buyers, range_prices[0], range_prices[1])\n",
    "    plt.step(np.flip(vv), len(buyers) - np.flip(ii), where='pre', label='Buyers')\n",
    "    \n",
    "    \n",
    "def compute_equilibrium_price(buyers, sellers):\n",
    "    vv, ii = compute_cdf(sellers, 0, max(sellers.max(), buyers.max()) + 1)\n",
    "    \n",
    "    vv2, ii2 = compute_cdf(buyers, 0, max(sellers.max(), buyers.max()) + 1)\n",
    "    vv2, ii2 = np.flip(vv2), len(buyers) - np.flip(ii2)\n",
    "    \n",
    "    print(vv2)\n",
    "    print(vv)\n",
    "    \n",
    "    test = (vv2 <= vv)\n",
    "    if not np.any(test):\n",
    "        return None\n",
    "    else:\n",
    "        d = np.argmax(test)\n",
    "        print(d)\n",
    "        \n",
    "        return (max(vv[d-1], vv2[d]), min(vv2[d-1], vv[d]))\n",
    "    "
   ]
  },
  {
   "cell_type": "code",
   "execution_count": 95,
   "metadata": {},
   "outputs": [
    {
     "name": "stdout",
     "output_type": "stream",
     "text": [
      "[143.5698163 142.5698163 128.4011672   0.       ]\n",
      "[  0.          81.3575758  107.56891171 143.5698163 ]\n",
      "3\n",
      "(107.56891170941404, 128.40116720128793)\n"
     ]
    },
    {
     "data": {
      "image/png": "[encoded data removed]",
      "text/plain": [
       "<Figure size 432x288 with 1 Axes>"
      ]
     },
     "metadata": {
      "needs_background": "light"
     },
     "output_type": "display_data"
    }
   ],
   "source": [
    "sellers = generate_seller_prices_paper(2)\n",
    "buyers = generate_buyer_prices_paper(2)\n",
    "\n",
    "plot_price_curves(buyers, sellers)\n",
    "plt.legend()\n",
    "\n",
    "print(compute_equilibrium_price(buyers, sellers))"
   ]
  },
  {
   "cell_type": "code",
   "execution_count": 1,
   "metadata": {},
   "outputs": [],
   "source": [
    "from util import plot_price_curves\n",
    "from util import compute_equilibrium_price"
   ]
  },
  {
   "cell_type": "code",
   "execution_count": 5,
   "metadata": {},
   "outputs": [
    {
     "name": "stdout",
     "output_type": "stream",
     "text": [
      "[148.21035517 147.21035517 127.38501868   0.        ]\n",
      "[  0.          99.53523082 114.50261783 148.21035517]\n",
      "3\n",
      "(114.50261782989672, 127.38501868262782)\n"
     ]
    },
    {
     "data": {
      "image/png": "[encoded data removed]",
      "text/plain": [
       "<Figure size 432x288 with 1 Axes>"
      ]
     },
     "metadata": {
      "needs_background": "light"
     },
     "output_type": "display_data"
    }
   ],
   "source": [
    "sellers = generate_seller_prices_paper(2)\n",
    "buyers = generate_buyer_prices_paper(2)\n",
    "\n",
    "plot_price_curves(buyers, sellers)\n",
    "plt.legend()\n",
    "\n",
    "print(compute_equilibrium_price(buyers, sellers))"
   ]
  }
 ],
 "metadata": {
  "kernelspec": {
   "display_name": "Python 3",
   "language": "python",
   "name": "python3"
  },
  "language_info": {
   "codemirror_mode": {
    "name": "ipython",
    "version": 3
   },
   "file_extension": ".py",
   "mimetype": "text/x-python",
   "name": "python",
   "nbconvert_exporter": "python",
   "pygments_lexer": "ipython3",
   "version": "3.7.5"
  }
 },
 "nbformat": 4,
 "nbformat_minor": 2
}
